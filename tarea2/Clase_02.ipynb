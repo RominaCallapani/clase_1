{
  "nbformat": 4,
  "nbformat_minor": 0,
  "metadata": {
    "colab": {
      "name": "Clase_02.ipynb",
      "provenance": [],
      "history_visible": true,
      "authorship_tag": "ABX9TyPvKk6JS88d+JMOmhHiZhxy",
      "include_colab_link": true
    },
    "kernelspec": {
      "name": "python3",
      "display_name": "Python 3"
    },
    "language_info": {
      "name": "python"
    }
  },
  "cells": [
    {
      "cell_type": "markdown",
      "metadata": {
        "id": "view-in-github",
        "colab_type": "text"
      },
      "source": [
        "<a href=\"https://colab.research.google.com/github/RominaCallapani/clase_1/blob/main/tarea2/Clase_02.ipynb\" target=\"_parent\"><img src=\"https://colab.research.google.com/assets/colab-badge.svg\" alt=\"Open In Colab\"/></a>"
      ]
    },
    {
      "cell_type": "code",
      "source": [
        "!python3"
      ],
      "metadata": {
        "colab": {
          "base_uri": "https://localhost:8080/"
        },
        "id": "s62FK1ioXHaW",
        "outputId": "eee83581-1c87-4a3f-96c2-b071961d1141"
      },
      "execution_count": null,
      "outputs": [
        {
          "output_type": "stream",
          "name": "stdout",
          "text": [
            "Python 3.7.13 (default, Apr 24 2022, 01:04:09) \n",
            "[GCC 7.5.0] on linux\n",
            "Type \"help\", \"copyright\", \"credits\" or \"license\" for more information.\n",
            ">>> "
          ]
        }
      ]
    },
    {
      "cell_type": "code",
      "source": [
        "print( \"Hello python interpreter!\")"
      ],
      "metadata": {
        "id": "l7nU47y6YyJy",
        "outputId": "7949f2fc-4e4a-4a28-fe54-331fd74cfc4f",
        "colab": {
          "base_uri": "https://localhost:8080/"
        }
      },
      "execution_count": 1,
      "outputs": [
        {
          "output_type": "stream",
          "name": "stdout",
          "text": [
            "Hello python interpreter!\n"
          ]
        }
      ]
    },
    {
      "cell_type": "code",
      "source": [
        "print(\"Hola clase de python\")"
      ],
      "metadata": {
        "id": "W37udFIjbXVi",
        "outputId": "dbc88fa9-b097-43ac-9353-259718d741c9",
        "colab": {
          "base_uri": "https://localhost:8080/"
        }
      },
      "execution_count": 3,
      "outputs": [
        {
          "output_type": "stream",
          "name": "stdout",
          "text": [
            "Hola clase de python\n"
          ]
        }
      ]
    },
    {
      "cell_type": "code",
      "source": [
        "4**5"
      ],
      "metadata": {
        "id": "eyCty-1fbcpe",
        "outputId": "7d43f826-a3d6-447e-f7aa-df110f0a9823",
        "colab": {
          "base_uri": "https://localhost:8080/"
        }
      },
      "execution_count": 5,
      "outputs": [
        {
          "output_type": "execute_result",
          "data": {
            "text/plain": [
              "1024"
            ]
          },
          "metadata": {},
          "execution_count": 5
        }
      ]
    },
    {
      "cell_type": "markdown",
      "source": [
        "Variables en python"
      ],
      "metadata": {
        "id": "467RmvrdbkoM"
      }
    },
    {
      "cell_type": "code",
      "source": [
        "\"python's\""
      ],
      "metadata": {
        "id": "tXvECcTQbos2",
        "outputId": "dc1675a9-9a6f-4ee8-858b-0b6c71374ae2",
        "colab": {
          "base_uri": "https://localhost:8080/",
          "height": 35
        }
      },
      "execution_count": 7,
      "outputs": [
        {
          "output_type": "execute_result",
          "data": {
            "text/plain": [
              "\"python's\""
            ],
            "application/vnd.google.colaboratory.intrinsic+json": {
              "type": "string"
            }
          },
          "metadata": {},
          "execution_count": 7
        }
      ]
    },
    {
      "cell_type": "code",
      "source": [
        "message = \"Hola Clase de Programación en Python\""
      ],
      "metadata": {
        "id": "N6M3w_cSdKfn"
      },
      "execution_count": 8,
      "outputs": []
    },
    {
      "cell_type": "code",
      "source": [
        "print (message)"
      ],
      "metadata": {
        "id": "nVe4JyURdcVB",
        "outputId": "0000ace2-cde7-4cac-a57f-a1c0a511e167",
        "colab": {
          "base_uri": "https://localhost:8080/"
        }
      },
      "execution_count": 9,
      "outputs": [
        {
          "output_type": "stream",
          "name": "stdout",
          "text": [
            "Hola Clase de Programación en Python\n"
          ]
        }
      ]
    },
    {
      "cell_type": "markdown",
      "source": [
        "Usando variables con strings"
      ],
      "metadata": {
        "id": "h1wAyZCtdh-H"
      }
    },
    {
      "cell_type": "code",
      "source": [
        "first_name = \"Romina\"\n",
        "last_name = \"Callapani\"\n",
        "full_name= f\"{first_name} {last_name}\"\n",
        "print(full_name)"
      ],
      "metadata": {
        "id": "wRJG1byWdl5n",
        "outputId": "18b8817b-1c09-48f2-dac9-ae75eb61036e",
        "colab": {
          "base_uri": "https://localhost:8080/"
        }
      },
      "execution_count": 14,
      "outputs": [
        {
          "output_type": "stream",
          "name": "stdout",
          "text": [
            "Romina Callapani\n"
          ]
        }
      ]
    },
    {
      "cell_type": "code",
      "source": [
        "first_name = str(input('Ingrese el primer nombre:'))\n",
        "last_name= str(input('Ingrese el apellido:'))\n",
        "full_name = f\"{first_name} {last_name}\"\n",
        "print(f\"Bienvenido {full_name}\")\n",
        "\n"
      ],
      "metadata": {
        "id": "EFzzI6Zlh3fE",
        "outputId": "01ba6a74-f52b-4be6-b95a-dc0e69fad359",
        "colab": {
          "base_uri": "https://localhost:8080/"
        }
      },
      "execution_count": 31,
      "outputs": [
        {
          "output_type": "stream",
          "name": "stdout",
          "text": [
            "Ingrese el primer nombre:Romina\n",
            "Ingrese el apellido:Callapani\n",
            "Bienvenido Romina Callapani\n"
          ]
        }
      ]
    },
    {
      "cell_type": "code",
      "source": [
        "first_name\n"
      ],
      "metadata": {
        "id": "-hA8gVYah7WA",
        "outputId": "3b4d1da5-5d56-4a16-ef6a-bece4204cb18",
        "colab": {
          "base_uri": "https://localhost:8080/",
          "height": 35
        }
      },
      "execution_count": 27,
      "outputs": [
        {
          "output_type": "execute_result",
          "data": {
            "text/plain": [
              "'Romina'"
            ],
            "application/vnd.google.colaboratory.intrinsic+json": {
              "type": "string"
            }
          },
          "metadata": {},
          "execution_count": 27
        }
      ]
    },
    {
      "cell_type": "code",
      "source": [
        "print(f\"Hola, {full_name}!\")"
      ],
      "metadata": {
        "id": "htHqRYYJy4hf",
        "outputId": "fd804b4b-f904-436c-a94b-29cd41f8fb58",
        "colab": {
          "base_uri": "https://localhost:8080/"
        }
      },
      "execution_count": 32,
      "outputs": [
        {
          "output_type": "stream",
          "name": "stdout",
          "text": [
            "Hola, Romina Callapani!\n"
          ]
        }
      ]
    },
    {
      "cell_type": "code",
      "source": [
        "message= f\"Hola,{full_name}!\""
      ],
      "metadata": {
        "id": "GIARFinWlps8"
      },
      "execution_count": 34,
      "outputs": []
    },
    {
      "cell_type": "code",
      "source": [
        "print(message)"
      ],
      "metadata": {
        "id": "Lzgu3BcM2eEg",
        "outputId": "4e987efe-8b19-48bd-ba98-768ba0432739",
        "colab": {
          "base_uri": "https://localhost:8080/"
        }
      },
      "execution_count": 35,
      "outputs": [
        {
          "output_type": "stream",
          "name": "stdout",
          "text": [
            "Hola,Romina Callapani!\n"
          ]
        }
      ]
    },
    {
      "cell_type": "code",
      "source": [
        "print(\"Python\")"
      ],
      "metadata": {
        "id": "bok6y-qd2mRG",
        "outputId": "aac7e795-af92-4587-b061-fc84dc845426",
        "colab": {
          "base_uri": "https://localhost:8080/"
        }
      },
      "execution_count": 36,
      "outputs": [
        {
          "output_type": "stream",
          "name": "stdout",
          "text": [
            "Python\n"
          ]
        }
      ]
    }
  ]
}